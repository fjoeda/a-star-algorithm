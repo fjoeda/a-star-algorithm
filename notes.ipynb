{
 "cells": [
  {
   "cell_type": "markdown",
   "metadata": {},
   "source": [
    "# Implementasi algoritma A* untuk menentukan rute ke Bucharest\n",
    "\n",
    "Faturahman Yudanto - 2022-10-11"
   ]
  },
  {
   "cell_type": "markdown",
   "metadata": {},
   "source": [
    "Pada notebook ini akan diimplementasikan algoritma A* untuk menentukan rute dari kota-kota yang ada di Romania ke Bucharest. Daftar kota beserta jarak antar kotanya disimpan dalam file \"romania_city.csv\" yang sebelumnya merupakan graf hubungan antara kota yang ada di Romania."
   ]
  },
  {
   "cell_type": "markdown",
   "metadata": {},
   "source": [
    "## Memuat tabel daftar kota\n",
    "\n",
    "Tabel daftar kota dimuat dengan bantuan library pandas"
   ]
  },
  {
   "cell_type": "code",
   "execution_count": 44,
   "metadata": {},
   "outputs": [
    {
     "data": {
      "text/html": [
       "<div>\n",
       "<style scoped>\n",
       "    .dataframe tbody tr th:only-of-type {\n",
       "        vertical-align: middle;\n",
       "    }\n",
       "\n",
       "    .dataframe tbody tr th {\n",
       "        vertical-align: top;\n",
       "    }\n",
       "\n",
       "    .dataframe thead th {\n",
       "        text-align: right;\n",
       "    }\n",
       "</style>\n",
       "<table border=\"1\" class=\"dataframe\">\n",
       "  <thead>\n",
       "    <tr style=\"text-align: right;\">\n",
       "      <th></th>\n",
       "      <th>city_start</th>\n",
       "      <th>city_end</th>\n",
       "      <th>distance</th>\n",
       "      <th>distance_end_from_bucharest</th>\n",
       "    </tr>\n",
       "  </thead>\n",
       "  <tbody>\n",
       "    <tr>\n",
       "      <th>0</th>\n",
       "      <td>zerind</td>\n",
       "      <td>arad</td>\n",
       "      <td>75</td>\n",
       "      <td>366</td>\n",
       "    </tr>\n",
       "    <tr>\n",
       "      <th>1</th>\n",
       "      <td>timisoara</td>\n",
       "      <td>arad</td>\n",
       "      <td>118</td>\n",
       "      <td>366</td>\n",
       "    </tr>\n",
       "    <tr>\n",
       "      <th>2</th>\n",
       "      <td>sibiu</td>\n",
       "      <td>arad</td>\n",
       "      <td>140</td>\n",
       "      <td>366</td>\n",
       "    </tr>\n",
       "    <tr>\n",
       "      <th>3</th>\n",
       "      <td>urcizeni</td>\n",
       "      <td>bucharest</td>\n",
       "      <td>85</td>\n",
       "      <td>0</td>\n",
       "    </tr>\n",
       "    <tr>\n",
       "      <th>4</th>\n",
       "      <td>pitesti</td>\n",
       "      <td>bucharest</td>\n",
       "      <td>101</td>\n",
       "      <td>0</td>\n",
       "    </tr>\n",
       "  </tbody>\n",
       "</table>\n",
       "</div>"
      ],
      "text/plain": [
       "  city_start   city_end  distance  distance_end_from_bucharest\n",
       "0     zerind       arad        75                          366\n",
       "1  timisoara       arad       118                          366\n",
       "2      sibiu       arad       140                          366\n",
       "3   urcizeni  bucharest        85                            0\n",
       "4    pitesti  bucharest       101                            0"
      ]
     },
     "execution_count": 44,
     "metadata": {},
     "output_type": "execute_result"
    }
   ],
   "source": [
    "import pandas as pd\n",
    "\n",
    "df_romania = pd.read_csv('romania_city.csv')\n",
    "df_romania.head()"
   ]
  },
  {
   "cell_type": "markdown",
   "metadata": {},
   "source": [
    "Pada tabel tersebut terdapat 4 kolom yakni \n",
    "\n",
    "- city_start → kota asal\n",
    "- city_end → kota tujuan\n",
    "- distance → jarak dari kota asal ke tujuan\n",
    "- distance_end_from_bucharest → jarak dari kota tujuan ke Bucharest\n"
   ]
  },
  {
   "cell_type": "markdown",
   "metadata": {},
   "source": [
    "## Implementasi algoritma A*\n",
    "\n",
    "Implementasi algoritma A* dituliskan pada fungsi `to_bucharest` di bawah. Terdapat beberapa langkah yang dilakukan yakni\n",
    "- Inisiasi goal state, initial state, dan state saat itu\n",
    "- Implementasi pencarian dengan menggunakan while loop\n",
    "- Pencarian kota tujuan selanjutnya dengan syarat kota tersebut memiliki cost terkecil dan belum pernah dikunjungi sebelumnya\n",
    "- Setelah kota tujuan selanjutnya ditemukan, set state saat ini menambahkan kota tujuan terpilih ke daftar kota yang pernah dikunjungi, set state kota saat ini ke kota tujuan, dan menambahkan nilai cost dengan nilai cost yang telah dihitung.\n",
    "- Ulangi langkah terebut hingga kota terakhir yang dikunjungi adalah kota tujuan"
   ]
  },
  {
   "cell_type": "code",
   "execution_count": 50,
   "metadata": {},
   "outputs": [],
   "source": [
    "def to_bucharest(start):\n",
    "    # menentukan state awal dan goal state\n",
    "    destination = \"bucharest\"\n",
    "    visited_city = [start]\n",
    "    current_city = start\n",
    "    cost = 0\n",
    "\n",
    "    # inisiasi pencarian\n",
    "    while destination != visited_city[-1]:\n",
    "        min_cost = 9999 + cost\n",
    "\n",
    "        # memilih kandidat kota tujuan selanjutnya\n",
    "        df_next_city = df_romania[df_romania['city_start'] == current_city]\n",
    "\n",
    "        # pencarian kota tujuan yang memiliki nilai cost yang minimum\n",
    "        for item in df_next_city.values:\n",
    "            curr_cost = item[2] + item[3] + cost\n",
    "            if item[1] not in visited_city:\n",
    "                if curr_cost < min_cost:\n",
    "                    min_cost = curr_cost\n",
    "                    curr_city = item[1]\n",
    "\n",
    "        # update state saat ini\n",
    "        current_city = curr_city\n",
    "        cost += min_cost\n",
    "        visited_city.append(current_city)\n",
    "\n",
    "    return visited_city, cost\n",
    "\n"
   ]
  },
  {
   "cell_type": "markdown",
   "metadata": {},
   "source": [
    "luaran fungsi di atas adalah daftar kota yang telah dikunjungi dan jumlah cost-nya"
   ]
  },
  {
   "cell_type": "markdown",
   "metadata": {},
   "source": [
    "## Implementasi\n",
    "\n",
    "Di bawah ini merupakan contoh implementasi dari fungsi algoritma A* di atas untuk menentukan rute dari suatu kota ke Kota Bucharest"
   ]
  },
  {
   "cell_type": "code",
   "execution_count": 61,
   "metadata": {},
   "outputs": [
    {
     "name": "stdout",
     "output_type": "stream",
     "text": [
      "start = arad\n",
      "Rute : \n",
      "arad -> sibiu -> rimnicu vilcea -> pitesti -> bucharest\n",
      "Total cost :\n",
      "4727\n"
     ]
    }
   ],
   "source": [
    "start = \"arad\"\n",
    "visited_city, cost = to_bucharest(start)\n",
    "print(f\"start = {start}\")\n",
    "print(\"Rute : \")\n",
    "print(\" -> \".join(visited_city))\n",
    "print(f\"Total cost :\")\n",
    "print(cost)\n"
   ]
  },
  {
   "cell_type": "code",
   "execution_count": 62,
   "metadata": {},
   "outputs": [
    {
     "name": "stdout",
     "output_type": "stream",
     "text": [
      "start = neamt\n",
      "Rute : \n",
      "neamt -> iasi -> vaslui -> urcizeni -> bucharest\n",
      "Total cost :\n",
      "4197\n"
     ]
    }
   ],
   "source": [
    "start = \"neamt\"\n",
    "visited_city, cost = to_bucharest(start)\n",
    "print(f\"start = {start}\")\n",
    "print(\"Rute : \")\n",
    "print(\" -> \".join(visited_city))\n",
    "print(f\"Total cost :\")\n",
    "print(cost)\n"
   ]
  }
 ],
 "metadata": {
  "kernelspec": {
   "display_name": "Python 3.8.10 64-bit",
   "language": "python",
   "name": "python3"
  },
  "language_info": {
   "codemirror_mode": {
    "name": "ipython",
    "version": 3
   },
   "file_extension": ".py",
   "mimetype": "text/x-python",
   "name": "python",
   "nbconvert_exporter": "python",
   "pygments_lexer": "ipython3",
   "version": "3.8.10"
  },
  "orig_nbformat": 4,
  "vscode": {
   "interpreter": {
    "hash": "ffbfc792e496a15b6b750fac43e7a9afdc7c26545a7abda9dc172ad3cb978227"
   }
  }
 },
 "nbformat": 4,
 "nbformat_minor": 2
}
